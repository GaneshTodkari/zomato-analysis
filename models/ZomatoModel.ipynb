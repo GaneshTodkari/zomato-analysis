{
 "cells": [
  {
   "cell_type": "code",
   "execution_count": 16,
   "id": "13af1b22",
   "metadata": {},
   "outputs": [],
   "source": [
    "import warnings\n",
    "warnings.filterwarnings(\"ignore\", category=FutureWarning)\n",
    "import numpy as np\n",
    "import pandas as pd\n",
    "import matplotlib.pyplot as plt\n",
    "import seaborn as sns\n",
    "from sklearn.linear_model import LinearRegression\n",
    "from sklearn.tree import DecisionTreeRegressor\n",
    "from sklearn.model_selection import train_test_split\n",
    "from sklearn.ensemble import RandomForestRegressor\n",
    "from sklearn.preprocessing import StandardScaler\n",
    "from sklearn.metrics import r2_score, mean_absolute_error"
   ]
  },
  {
   "cell_type": "code",
   "execution_count": 17,
   "id": "79ea78ed",
   "metadata": {},
   "outputs": [
    {
     "data": {
      "text/html": [
       "<div>\n",
       "<style scoped>\n",
       "    .dataframe tbody tr th:only-of-type {\n",
       "        vertical-align: middle;\n",
       "    }\n",
       "\n",
       "    .dataframe tbody tr th {\n",
       "        vertical-align: top;\n",
       "    }\n",
       "\n",
       "    .dataframe thead th {\n",
       "        text-align: right;\n",
       "    }\n",
       "</style>\n",
       "<table border=\"1\" class=\"dataframe\">\n",
       "  <thead>\n",
       "    <tr style=\"text-align: right;\">\n",
       "      <th></th>\n",
       "      <th>Country Code</th>\n",
       "      <th>Longitude</th>\n",
       "      <th>Latitude</th>\n",
       "      <th>Average Cost for two</th>\n",
       "      <th>Has Table booking</th>\n",
       "      <th>Has Online delivery</th>\n",
       "      <th>Is delivering now</th>\n",
       "      <th>Price range</th>\n",
       "      <th>Aggregate rating</th>\n",
       "      <th>Votes</th>\n",
       "      <th>Restaurant Name len</th>\n",
       "      <th>Address len</th>\n",
       "    </tr>\n",
       "  </thead>\n",
       "  <tbody>\n",
       "    <tr>\n",
       "      <th>0</th>\n",
       "      <td>162</td>\n",
       "      <td>121.027535</td>\n",
       "      <td>14.565443</td>\n",
       "      <td>1100</td>\n",
       "      <td>1</td>\n",
       "      <td>0</td>\n",
       "      <td>0</td>\n",
       "      <td>3</td>\n",
       "      <td>4.8</td>\n",
       "      <td>314</td>\n",
       "      <td>16</td>\n",
       "      <td>5</td>\n",
       "    </tr>\n",
       "    <tr>\n",
       "      <th>1</th>\n",
       "      <td>162</td>\n",
       "      <td>121.014101</td>\n",
       "      <td>14.553708</td>\n",
       "      <td>1200</td>\n",
       "      <td>1</td>\n",
       "      <td>0</td>\n",
       "      <td>0</td>\n",
       "      <td>3</td>\n",
       "      <td>4.5</td>\n",
       "      <td>591</td>\n",
       "      <td>16</td>\n",
       "      <td>4</td>\n",
       "    </tr>\n",
       "    <tr>\n",
       "      <th>2</th>\n",
       "      <td>162</td>\n",
       "      <td>121.056831</td>\n",
       "      <td>14.581404</td>\n",
       "      <td>4000</td>\n",
       "      <td>1</td>\n",
       "      <td>0</td>\n",
       "      <td>0</td>\n",
       "      <td>4</td>\n",
       "      <td>4.4</td>\n",
       "      <td>270</td>\n",
       "      <td>22</td>\n",
       "      <td>4</td>\n",
       "    </tr>\n",
       "    <tr>\n",
       "      <th>3</th>\n",
       "      <td>162</td>\n",
       "      <td>121.056475</td>\n",
       "      <td>14.585318</td>\n",
       "      <td>1500</td>\n",
       "      <td>0</td>\n",
       "      <td>0</td>\n",
       "      <td>0</td>\n",
       "      <td>4</td>\n",
       "      <td>4.9</td>\n",
       "      <td>365</td>\n",
       "      <td>4</td>\n",
       "      <td>5</td>\n",
       "    </tr>\n",
       "    <tr>\n",
       "      <th>4</th>\n",
       "      <td>162</td>\n",
       "      <td>121.057508</td>\n",
       "      <td>14.584450</td>\n",
       "      <td>1500</td>\n",
       "      <td>1</td>\n",
       "      <td>0</td>\n",
       "      <td>0</td>\n",
       "      <td>4</td>\n",
       "      <td>4.8</td>\n",
       "      <td>229</td>\n",
       "      <td>11</td>\n",
       "      <td>5</td>\n",
       "    </tr>\n",
       "  </tbody>\n",
       "</table>\n",
       "</div>"
      ],
      "text/plain": [
       "   Country Code   Longitude   Latitude  Average Cost for two  \\\n",
       "0           162  121.027535  14.565443                  1100   \n",
       "1           162  121.014101  14.553708                  1200   \n",
       "2           162  121.056831  14.581404                  4000   \n",
       "3           162  121.056475  14.585318                  1500   \n",
       "4           162  121.057508  14.584450                  1500   \n",
       "\n",
       "   Has Table booking  Has Online delivery  Is delivering now  Price range  \\\n",
       "0                  1                    0                  0            3   \n",
       "1                  1                    0                  0            3   \n",
       "2                  1                    0                  0            4   \n",
       "3                  0                    0                  0            4   \n",
       "4                  1                    0                  0            4   \n",
       "\n",
       "   Aggregate rating  Votes  Restaurant Name len  Address len  \n",
       "0               4.8    314                   16            5  \n",
       "1               4.5    591                   16            4  \n",
       "2               4.4    270                   22            4  \n",
       "3               4.9    365                    4            5  \n",
       "4               4.8    229                   11            5  "
      ]
     },
     "execution_count": 17,
     "metadata": {},
     "output_type": "execute_result"
    }
   ],
   "source": [
    "df = pd.read_csv('../data/cleaned.csv')\n",
    "df.head()"
   ]
  },
  {
   "cell_type": "code",
   "execution_count": 18,
   "id": "b8f23e04",
   "metadata": {},
   "outputs": [],
   "source": [
    "X = df.drop('Aggregate rating', axis=1)\n",
    "y = df['Aggregate rating']\n",
    "X_train, X_test, y_train, y_test = train_test_split(X, y, random_state=42, train_size=0.8)\n",
    "sc = StandardScaler()\n",
    "X_train = sc.fit_transform(X_train)\n",
    "X_test = sc.transform(X_test)"
   ]
  },
  {
   "cell_type": "code",
   "execution_count": 19,
   "id": "a1e4d137",
   "metadata": {},
   "outputs": [
    {
     "name": "stdout",
     "output_type": "stream",
     "text": [
      "Country Code :  0.4017285649084314\n",
      "Longitude :  -0.2845151671099206\n",
      "Latitude :  -0.18222795292911353\n",
      "Average Cost for two :  0.07522713542466646\n",
      "Has Table booking :  0.08292908187772786\n",
      "Has Online delivery :  -0.12578606854505245\n",
      "Is delivering now :  -0.02593493457620779\n",
      "Price range :  0.3579714045874775\n",
      "Votes :  0.3866310048124126\n",
      "Restaurant Name len :  0.059401870448538396\n",
      "Address len :  -0.14509612530302618\n"
     ]
    }
   ],
   "source": [
    "for i in X.columns:\n",
    "    corr = np.corrcoef(df[i], y)[0,1]\n",
    "    print(i,': ', corr)"
   ]
  },
  {
   "cell_type": "code",
   "execution_count": 20,
   "id": "a2dd0a11",
   "metadata": {},
   "outputs": [],
   "source": [
    "lr=LinearRegression()\n",
    "lr.fit(X_train,y_train)\n",
    "lr_result = lr.predict(X_test)"
   ]
  },
  {
   "cell_type": "code",
   "execution_count": 21,
   "id": "c425038e",
   "metadata": {},
   "outputs": [
    {
     "name": "stdout",
     "output_type": "stream",
     "text": [
      "The r2 score of Linear Regression: 0.3678293078549555\n"
     ]
    }
   ],
   "source": [
    "lr_score = r2_score(y_test, lr_result)\n",
    "print('The r2 score of Linear Regression:',lr_score)"
   ]
  },
  {
   "cell_type": "code",
   "execution_count": 22,
   "id": "7432b295",
   "metadata": {},
   "outputs": [
    {
     "name": "stdout",
     "output_type": "stream",
     "text": [
      "The Mean Absolute Error of Linear Regression: 0.3428344823340031\n"
     ]
    }
   ],
   "source": [
    "lr_mae = mean_absolute_error(y_test, lr_result)\n",
    "print('The Mean Absolute Error of Linear Regression:',lr_mae)"
   ]
  },
  {
   "cell_type": "code",
   "execution_count": 23,
   "id": "83953d40",
   "metadata": {},
   "outputs": [],
   "source": [
    "rf = RandomForestRegressor(random_state=42)\n",
    "rf.fit(X_train, y_train)\n",
    "rf_result = rf.predict(X_test)"
   ]
  },
  {
   "cell_type": "code",
   "execution_count": 24,
   "id": "b011ba78",
   "metadata": {},
   "outputs": [
    {
     "name": "stdout",
     "output_type": "stream",
     "text": [
      "The r2 score of Random Forest: 0.571259616098126\n"
     ]
    }
   ],
   "source": [
    "rf_score = r2_score(y_test, rf_result)\n",
    "print('The r2 score of Random Forest:',rf_score)"
   ]
  },
  {
   "cell_type": "code",
   "execution_count": 25,
   "id": "f1438aa9",
   "metadata": {},
   "outputs": [
    {
     "name": "stdout",
     "output_type": "stream",
     "text": [
      "The Mean Absolute Error of Random Forest: 0.2792358184764992\n"
     ]
    }
   ],
   "source": [
    "rf_mae = mean_absolute_error(y_test, rf_result)\n",
    "print('The Mean Absolute Error of Random Forest:',rf_mae)"
   ]
  },
  {
   "cell_type": "code",
   "execution_count": 26,
   "id": "3afa3bdd",
   "metadata": {},
   "outputs": [],
   "source": [
    "dt = DecisionTreeRegressor(random_state=42)\n",
    "dt.fit(X_train, y_train)\n",
    "dt_result = dt.predict(X_test)"
   ]
  },
  {
   "cell_type": "code",
   "execution_count": 27,
   "id": "712fb1d2",
   "metadata": {},
   "outputs": [
    {
     "name": "stdout",
     "output_type": "stream",
     "text": [
      "The r2 score od Decision Tree: 0.05404951428646332\n"
     ]
    }
   ],
   "source": [
    "dt_score = r2_score(y_test, dt_result)\n",
    "print('The r2 score od Decision Tree:',dt_score)"
   ]
  },
  {
   "cell_type": "code",
   "execution_count": 28,
   "id": "ea905c03",
   "metadata": {},
   "outputs": [
    {
     "name": "stdout",
     "output_type": "stream",
     "text": [
      "The Mean Absolute Error of Decision Tree: 0.40632090761750406\n"
     ]
    }
   ],
   "source": [
    "dt_mae = mean_absolute_error(y_test, dt_result)\n",
    "print('The Mean Absolute Error of Decision Tree:',dt_mae)"
   ]
  },
  {
   "cell_type": "code",
   "execution_count": 29,
   "id": "31bf5594",
   "metadata": {},
   "outputs": [
    {
     "data": {
      "text/html": [
       "<div>\n",
       "<style scoped>\n",
       "    .dataframe tbody tr th:only-of-type {\n",
       "        vertical-align: middle;\n",
       "    }\n",
       "\n",
       "    .dataframe tbody tr th {\n",
       "        vertical-align: top;\n",
       "    }\n",
       "\n",
       "    .dataframe thead th {\n",
       "        text-align: right;\n",
       "    }\n",
       "</style>\n",
       "<table border=\"1\" class=\"dataframe\">\n",
       "  <thead>\n",
       "    <tr style=\"text-align: right;\">\n",
       "      <th></th>\n",
       "      <th>R2 Score</th>\n",
       "      <th>Mean Absolute Error</th>\n",
       "    </tr>\n",
       "  </thead>\n",
       "  <tbody>\n",
       "    <tr>\n",
       "      <th>Linear Regression</th>\n",
       "      <td>0.367829</td>\n",
       "      <td>0.342834</td>\n",
       "    </tr>\n",
       "    <tr>\n",
       "      <th>Random Forest</th>\n",
       "      <td>0.571260</td>\n",
       "      <td>0.279236</td>\n",
       "    </tr>\n",
       "    <tr>\n",
       "      <th>Decision Tree</th>\n",
       "      <td>0.054050</td>\n",
       "      <td>0.406321</td>\n",
       "    </tr>\n",
       "  </tbody>\n",
       "</table>\n",
       "</div>"
      ],
      "text/plain": [
       "                   R2 Score  Mean Absolute Error\n",
       "Linear Regression  0.367829             0.342834\n",
       "Random Forest      0.571260             0.279236\n",
       "Decision Tree      0.054050             0.406321"
      ]
     },
     "execution_count": 29,
     "metadata": {},
     "output_type": "execute_result"
    }
   ],
   "source": [
    "final_result = [[lr_score, lr_mae], [rf_score, rf_mae], [dt_score, dt_mae]]\n",
    "final_result = pd.DataFrame(final_result, columns=['R2 Score', 'Mean Absolute Error'], index=['Linear Regression', 'Random Forest', 'Decision Tree'])\n",
    "final_result"
   ]
  },
  {
   "cell_type": "markdown",
   "id": "6a52f469",
   "metadata": {},
   "source": [
    "Random Forest\n",
    "- Best R² = 0.571 → Explains ~57% of the target variability\n",
    "- Lowest MAE = 0.279 → Most accurate predictions on average \n",
    "Best-performing model overall"
   ]
  },
  {
   "cell_type": "code",
   "execution_count": 30,
   "id": "18282b8c",
   "metadata": {},
   "outputs": [
    {
     "data": {
      "image/png": "[encoded data removed]",
      "text/plain": [
       "<Figure size 1800x500 with 2 Axes>"
      ]
     },
     "metadata": {},
     "output_type": "display_data"
    }
   ],
   "source": [
    "fig, ax = plt.subplots(1, 2, figsize=(18, 5))\n",
    "sns.barplot(x=final_result.index, y=final_result['R2 Score'], ax=ax[0])\n",
    "ax[0].set_xlabel('Models') \n",
    "ax[0].set_title('R2 Score Across Models')\n",
    "\n",
    "sns.barplot(x=final_result.index, y=final_result['Mean Absolute Error'], ax=ax[1])\n",
    "ax[1].set_xlabel('Models')\n",
    "ax[1].set_title('Mean Absolute Error Accross Models')\n",
    "plt.tight_layout()\n",
    "plt.show()"
   ]
  }
 ],
 "metadata": {
  "kernelspec": {
   "display_name": "Python 3",
   "language": "python",
   "name": "python3"
  },
  "language_info": {
   "codemirror_mode": {
    "name": "ipython",
    "version": 3
   },
   "file_extension": ".py",
   "mimetype": "text/x-python",
   "name": "python",
   "nbconvert_exporter": "python",
   "pygments_lexer": "ipython3",
   "version": "3.13.2"
  }
 },
 "nbformat": 4,
 "nbformat_minor": 5
}
